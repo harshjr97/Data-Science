{
 "cells": [
  {
   "cell_type": "markdown",
   "id": "22a94437",
   "metadata": {},
   "source": [
    "# NumPy Array"
   ]
  },
  {
   "cell_type": "code",
   "execution_count": null,
   "id": "6a5fe3be",
   "metadata": {},
   "outputs": [],
   "source": [
    "import numpy as np"
   ]
  },
  {
   "cell_type": "code",
   "execution_count": null,
   "id": "6fc326ef",
   "metadata": {},
   "outputs": [],
   "source": [
    "mylist = [1,2,3,4]\n",
    "mylist"
   ]
  },
  {
   "cell_type": "code",
   "execution_count": null,
   "id": "8b4b0da4",
   "metadata": {},
   "outputs": [],
   "source": [
    "arr = np.array(mylist)\n",
    "arr"
   ]
  },
  {
   "cell_type": "code",
   "execution_count": null,
   "id": "933764e4",
   "metadata": {},
   "outputs": [],
   "source": [
    "mymat = [[1,2,3],[4,5,6],[7,8,9]]"
   ]
  },
  {
   "cell_type": "code",
   "execution_count": null,
   "id": "d8d0b7c1",
   "metadata": {},
   "outputs": [],
   "source": [
    "np.array(mymat)"
   ]
  },
  {
   "cell_type": "code",
   "execution_count": null,
   "id": "19441043",
   "metadata": {},
   "outputs": [],
   "source": [
    "np.arange(0,10)"
   ]
  },
  {
   "cell_type": "code",
   "execution_count": null,
   "id": "bc8689f1",
   "metadata": {},
   "outputs": [],
   "source": [
    "np.arange(0,11, 2)"
   ]
  },
  {
   "cell_type": "markdown",
   "id": "a2233271",
   "metadata": {},
   "source": [
    "## Array with zeors"
   ]
  },
  {
   "cell_type": "code",
   "execution_count": null,
   "id": "84c0476d",
   "metadata": {},
   "outputs": [],
   "source": [
    "np.zeros(5)"
   ]
  },
  {
   "cell_type": "code",
   "execution_count": null,
   "id": "b43d6b25",
   "metadata": {},
   "outputs": [],
   "source": [
    "np.zeros((3,5))"
   ]
  },
  {
   "cell_type": "markdown",
   "id": "1d77a40b",
   "metadata": {},
   "source": [
    "## i to j with same diff b/w number"
   ]
  },
  {
   "cell_type": "code",
   "execution_count": null,
   "id": "b1ee38ce",
   "metadata": {},
   "outputs": [],
   "source": [
    "np.linspace(0,10,15)"
   ]
  },
  {
   "cell_type": "markdown",
   "id": "24c9b713",
   "metadata": {},
   "source": [
    "## identity matrix"
   ]
  },
  {
   "cell_type": "code",
   "execution_count": null,
   "id": "a36cd04d",
   "metadata": {},
   "outputs": [],
   "source": [
    "np.eye(5)"
   ]
  },
  {
   "cell_type": "markdown",
   "id": "cfbbd81b",
   "metadata": {},
   "source": [
    "## create a matrix of random value"
   ]
  },
  {
   "cell_type": "code",
   "execution_count": null,
   "id": "963dff02",
   "metadata": {},
   "outputs": [],
   "source": [
    "np.random.rand(5)"
   ]
  },
  {
   "cell_type": "code",
   "execution_count": null,
   "id": "8b717831",
   "metadata": {},
   "outputs": [],
   "source": [
    "np.random.rand(5,5)"
   ]
  },
  {
   "cell_type": "code",
   "execution_count": null,
   "id": "7c69b8f4",
   "metadata": {},
   "outputs": [],
   "source": [
    "rmarr = np.random.randint(0,100,10)"
   ]
  },
  {
   "cell_type": "markdown",
   "id": "4bf58970",
   "metadata": {},
   "source": [
    "## Reshape array"
   ]
  },
  {
   "cell_type": "code",
   "execution_count": null,
   "id": "7e0cfe04",
   "metadata": {},
   "outputs": [],
   "source": [
    "arr = np.arange(25)\n",
    "arr.reshape(5,5)"
   ]
  },
  {
   "cell_type": "markdown",
   "id": "d6897adb",
   "metadata": {},
   "source": [
    "## some usefull methods"
   ]
  },
  {
   "cell_type": "code",
   "execution_count": null,
   "id": "06684174",
   "metadata": {},
   "outputs": [],
   "source": [
    "rmarr.max()"
   ]
  },
  {
   "cell_type": "code",
   "execution_count": null,
   "id": "ace1bb96",
   "metadata": {},
   "outputs": [],
   "source": [
    "rmarr.min()"
   ]
  },
  {
   "cell_type": "code",
   "execution_count": null,
   "id": "b53041f2",
   "metadata": {},
   "outputs": [],
   "source": [
    "rmarr.mean()"
   ]
  },
  {
   "cell_type": "code",
   "execution_count": null,
   "id": "0089f1cc",
   "metadata": {},
   "outputs": [],
   "source": [
    "# get index of max or min\n",
    "rmarr.argmax()\n",
    "rmarr.argmin()"
   ]
  },
  {
   "cell_type": "code",
   "execution_count": null,
   "id": "3bdd54b6",
   "metadata": {},
   "outputs": [],
   "source": [
    "# get shape\n",
    "rmarr.shape"
   ]
  },
  {
   "cell_type": "code",
   "execution_count": null,
   "id": "ab2f4425",
   "metadata": {},
   "outputs": [],
   "source": [
    "# get data type\n",
    "rmarr.dtype"
   ]
  },
  {
   "cell_type": "code",
   "execution_count": null,
   "id": "9e4c513d",
   "metadata": {},
   "outputs": [],
   "source": []
  }
 ],
 "metadata": {
  "kernelspec": {
   "display_name": "Python 3 (ipykernel)",
   "language": "python",
   "name": "python3"
  },
  "language_info": {
   "codemirror_mode": {
    "name": "ipython",
    "version": 3
   },
   "file_extension": ".py",
   "mimetype": "text/x-python",
   "name": "python",
   "nbconvert_exporter": "python",
   "pygments_lexer": "ipython3",
   "version": "3.9.7"
  }
 },
 "nbformat": 4,
 "nbformat_minor": 5
}
